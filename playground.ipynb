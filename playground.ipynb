{
 "metadata": {
  "language_info": {
   "codemirror_mode": {
    "name": "ipython",
    "version": 3
   },
   "file_extension": ".py",
   "mimetype": "text/x-python",
   "name": "python",
   "nbconvert_exporter": "python",
   "pygments_lexer": "ipython3",
   "version": "3.9.1"
  },
  "orig_nbformat": 2,
  "kernelspec": {
   "name": "python391jvsc74a57bd0aee8b7b246df8f9039afb4144a1f6fd8d2ca17a180786b69acc140d282b71a49",
   "display_name": "Python 3.9.1 64-bit"
  },
  "metadata": {
   "interpreter": {
    "hash": "aee8b7b246df8f9039afb4144a1f6fd8d2ca17a180786b69acc140d282b71a49"
   }
  }
 },
 "nbformat": 4,
 "nbformat_minor": 2,
 "cells": [
  {
   "cell_type": "code",
   "execution_count": 1,
   "metadata": {},
   "outputs": [],
   "source": [
    "import os\n",
    "import datetime\n",
    "import boto3\n",
    "from boto3.dynamodb.conditions import Key"
   ]
  },
  {
   "cell_type": "code",
   "execution_count": 2,
   "metadata": {},
   "outputs": [],
   "source": [
    "nombre_tabla = \"CT-DEV-VMAPI-usuariosagentsDE39E50B-LVOH5J2RWKLJ\"\n",
    "ddb_table = boto3.resource('dynamodb').Table(nombre_tabla)\n"
   ]
  },
  {
   "cell_type": "code",
   "execution_count": 20,
   "metadata": {},
   "outputs": [],
   "source": [
    "items = ddb_table.scan()"
   ]
  },
  {
   "cell_type": "code",
   "execution_count": 21,
   "metadata": {},
   "outputs": [],
   "source": [
    "on_call = []\n",
    "for item in items['Items']:\n",
    "    if item['oncall'] == True:\n",
    "        if item['deliveryOptions']['sms']['phoneNumber'] != '':\n",
    "            on_call.append(item)"
   ]
  },
  {
   "cell_type": "code",
   "execution_count": 22,
   "metadata": {},
   "outputs": [],
   "source": [
    "respuesta = {}\n",
    "\n",
    "if len(on_call):\n",
    "    first = on_call[0]\n",
    "    respuesta['TargetContact'] = '+{}'.format(first['deliveryOptions']['sms']['phoneNumber'])\n",
    "    respuesta['TargetName'] = '{} {}'.format(first['FirstName'], first['LastName'])\n",
    "    \n",
    "    if len(on_call)>1:\n",
    "        for i in range(1, len(on_call)):\n",
    "            respuesta[f'TargetContact_{i}'] = '+{}'.format(on_call[i]['deliveryOptions']['sms']['phoneNumber'])\n",
    "            respuesta[f'TargetName_{i}'] = '{} {}'.format(on_call[i]['FirstName'], on_call[i]['LastName'])"
   ]
  },
  {
   "cell_type": "code",
   "execution_count": 23,
   "metadata": {},
   "outputs": [
    {
     "output_type": "execute_result",
     "data": {
      "text/plain": [
       "{}"
      ]
     },
     "metadata": {},
     "execution_count": 23
    }
   ],
   "source": [
    "respuesta"
   ]
  },
  {
   "cell_type": "code",
   "execution_count": null,
   "metadata": {},
   "outputs": [],
   "source": []
  }
 ]
}